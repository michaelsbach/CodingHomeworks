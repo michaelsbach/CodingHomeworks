{
  "nbformat": 4,
  "nbformat_minor": 0,
  "metadata": {
    "colab": {
      "name": "Schwarzbach_HW02.ipynb",
      "version": "0.3.2",
      "provenance": [],
      "collapsed_sections": []
    },
    "kernelspec": {
      "name": "python3",
      "display_name": "Python 3"
    }
  },
  "cells": [
    {
      "metadata": {
        "id": "-VI-2MCOcV_P",
        "colab_type": "code",
        "outputId": "2c7c002b-f239-444b-e843-975f6316fc8f",
        "colab": {
          "base_uri": "https://localhost:8080/",
          "height": 272
        }
      },
      "cell_type": "code",
      "source": [
        "#Q1: Mimic trivial text editor in search & replace functionality\n",
        "#to grader: you may change the test.text hardcode, \n",
        "#or just uncomment the 'input name of your file' line and comment the hardcoded line.\n",
        "\n",
        "def countString(filename, string):\n",
        "  file = open(filename, \"r\")\n",
        "  lines = file.read()\n",
        "  file.close()\n",
        "  return lines.count(string)\n",
        "  \n",
        "def ctrlH(filename, string, newstring):\n",
        "  file = open(filename, \"r\")\n",
        "  lines = file.read()\n",
        "  file.close()\n",
        "  lines2 = lines.split(string)\n",
        "  newlines = newstring.join(lines2)\n",
        "  file = open(filename, \"w\")\n",
        "  file.write(newlines)\n",
        "  file.close()\n",
        "  return\n",
        "\n",
        "#file = input(\"Input the name of your file\")\n",
        "file = \"test.txt\";\n",
        "\n",
        "while(True):\n",
        "  cmd = input(\"Insert \\'S\\' for search, \\'R\\' for replacement, or \\'Q\\' to quit:  \")\n",
        "  if (cmd.upper() == 'Q'):\n",
        "    print(\"See ya!\")\n",
        "    break\n",
        "  elif (cmd.upper() == 'S'):\n",
        "    str1 = input(\"Insert the (case sensitive) string you would like to search for: \")\n",
        "    print(\"\\'%s\\' appears in %s %d times.\" % (str1, file, countString(file,str1)))\n",
        "  elif (cmd.upper() == 'R'):\n",
        "    str1 =  input(\"Insert the (case sensitive) string you would like to replace:  \")\n",
        "    num = countString(file,str1)\n",
        "    if num != 0:\n",
        "      str2 = input(\"Insert string to replace every occurance of \\'%s\\':  \" % (str1))\n",
        "      ctrlH(file, str1, str2)\n",
        "      print(\"\\'%s\\' has been replaced with \\'%s\\' %d times in file %s.\" % (str1, str2, num, file))\n",
        "    else:\n",
        "      print(\"Sorry, \\'%s\\' does not appear in %s. Try again with a different string.\" % (str1, file, num)\n",
        "  else:\n",
        "    print(\"Incorrect input (%s). Try again.\" % (cmd))\n",
        "  "
      ],
      "execution_count": 0,
      "outputs": [
        {
          "output_type": "stream",
          "text": [
            "Insert 'S' for search, 'R' for replacement, or 'Q' to quit:  W\n",
            "Incorrect input (W). Try again.\n",
            "Insert 'S' for search, 'R' for replacement, or 'Q' to quit:  s\n",
            "Insert the (case sensitive) string you would like to search for: JiMMY\n",
            "'JiMMY' appears in test.txt 3 times.\n",
            "Insert 'S' for search, 'R' for replacement, or 'Q' to quit:  r\n",
            "Insert the (case sensitive) string you would like to replace:  JiMMY\n",
            "Insert string to replace every occurance of 'JiMMY':  michael\n",
            "'JiMMY' has been replaced with 'michael' 3 times in file test.txt.\n",
            "Insert 'S' for search, 'R' for replacement, or 'Q' to quit:  r\n",
            "Insert the (case sensitive) string you would like to replace:  lickin'\n",
            "Insert string to replace every occurance of 'lickin'':  chicken\n",
            "'lickin'' has been replaced with 'chicken' 3 times in file test.txt.\n",
            "Insert 'S' for search, 'R' for replacement, or 'Q' to quit:  q\n",
            "See ya!\n"
          ],
          "name": "stdout"
        }
      ]
    },
    {
      "metadata": {
        "id": "-fu7czS2fkUZ",
        "colab_type": "code",
        "outputId": "5339f492-3769-41dd-f967-164a833844f3",
        "colab": {
          "base_uri": "https://localhost:8080/",
          "height": 51
        }
      },
      "cell_type": "code",
      "source": [
        "#Q2: largest difference between elements of a given list\n",
        "\n",
        "cm = input(\"Insert your comma separated list; eg:\\\"1,2,3,4\\\":  \")\n",
        "l = list(map(int, cm.split(\",\")))\n",
        "print(\"The highest difference is %d\" % (max(l) - min(l)))\n"
      ],
      "execution_count": 0,
      "outputs": [
        {
          "output_type": "stream",
          "text": [
            "Insert your comma separated list; eg:\"1,2,3,4\":  -5, 7 , 6, 15 \n",
            "The highest difference is 20\n"
          ],
          "name": "stdout"
        }
      ]
    },
    {
      "metadata": {
        "id": "xByOrK92hDdq",
        "colab_type": "code",
        "colab": {}
      },
      "cell_type": "code",
      "source": [
        "#Q3: remove any duplicate spaces and remove any tabs or newlines\n",
        "#to grader: you may change the test2.text hardcode, \n",
        "# or just uncomment the 'input name of your file' line and comment the hardcoded line.\n",
        "\n",
        "def removeExtraWhitespace(filename):\n",
        "  file = open(filename, \"r\")\n",
        "  lines = file.read()\n",
        "  file.close\n",
        "  chars = []\n",
        "  prev = \"\"\n",
        "  for char in lines:\n",
        "    if (prev == char or char == '\\n' or char == '\\t'):\n",
        "      continue\n",
        "    else:\n",
        "      chars.append(char)\n",
        "      prev = char\n",
        "  newlines = \"\".join(chars)\n",
        "  file = open(filename, \"w\")\n",
        "  file.write(newlines)\n",
        "  file.close()\n",
        "  return\n",
        "  \n",
        "#file = input(\"Input the name of your file\")\n",
        "file = \"test2.txt\";\n",
        "removeExtraWhitespace(file)\n"
      ],
      "execution_count": 0,
      "outputs": []
    },
    {
      "metadata": {
        "id": "YYRrmUCWhaZ9",
        "colab_type": "code",
        "outputId": "03cd153e-f6a8-4ecf-c579-30595423679e",
        "colab": {
          "base_uri": "https://localhost:8080/",
          "height": 51
        }
      },
      "cell_type": "code",
      "source": [
        "#Q4: recursive function to calculate nth fibonacci\n",
        "\n",
        "def fib(n):\n",
        "  if (n == 1):\n",
        "    return 1\n",
        "  elif (n==0):\n",
        "    return 0\n",
        "  else:\n",
        "    return (fib(n-1) + fib(n-2))\n",
        "\n",
        "fibber = input(\"Insert the number you would like the calculate the fibonacci of:  \")\n",
        "print(\"The fibbonacci of %s is %d.\" % (fibber, fib(int(fibber))))"
      ],
      "execution_count": 0,
      "outputs": [
        {
          "output_type": "stream",
          "text": [
            "Insert the number you would like the calculate the fibonacci of:  8\n",
            "The fibbonacci of 8 is 21.\n"
          ],
          "name": "stdout"
        }
      ]
    },
    {
      "metadata": {
        "id": "Kfgsr2TQh7Xs",
        "colab_type": "code",
        "colab": {
          "base_uri": "https://localhost:8080/",
          "height": 119
        },
        "outputId": "6f5a8eef-354a-4232-dcaa-52c35467350e"
      },
      "cell_type": "code",
      "source": [
        "#Q5: implement \"filter\". object should be numerical list, set, or tuple\n",
        "#this is not bug-free, so make sure to follow the format. BUT!..\n",
        "#if you fail to include ), ], or }, it will automatically stop the program.\n",
        "\n",
        "#the filter!!!\n",
        "def myFilter(foo, iterableObject):\n",
        "  return list(element for element in iterableObject if foo(element))\n",
        "\n",
        "#THIS IS THE FILTER FUNCTION. You may change this if desired.\n",
        "def isEven(num):\n",
        "  if num % 2 == 0:\n",
        "    return True\n",
        "  else:\n",
        "    return False\n",
        "\n",
        "#formats the input to numerical list\n",
        "def shaveToList(obj):\n",
        "  exclude = ['{','}','[',']','(',')', ',']\n",
        "  obj = obj[1:-1].split(',')\n",
        "  return list(map(int, obj))\n",
        "\n",
        "obj = input(\"Insert your iterable object (eg: (1,2,3) OR [2,4,2,9] OR {1,5,7}):  \")\n",
        "check = [')', ']', '}']\n",
        "if any(x in obj for x in check):\n",
        "  obj1 = shaveToList(obj)\n",
        "  if \"(\" in obj:\n",
        "    obj2 = tuple(myFilter(isEven, obj1))\n",
        "  elif \"{\" in obj:\n",
        "    obj2 = set(myFilter(isEven, obj1))  \n",
        "  else:\n",
        "    obj2 = myFilter(isEven, obj1)\n",
        "\n",
        "  print(\"original object is\")\n",
        "  print(obj)\n",
        "  print(\"filtered object is\")\n",
        "  print(obj2)\n",
        "else:\n",
        "  print(\"Your input is not in the correct format. Please try again.\")"
      ],
      "execution_count": 27,
      "outputs": [
        {
          "output_type": "stream",
          "text": [
            "Insert your iterable object (eg: (1,2,3) OR [2,4,2,9] OR {1,5,7}):  {1,55,77,42}\n",
            "['1', '55', '77', '42']\n",
            "original object is\n",
            "{1,55,77,42}\n",
            "filtered object is\n",
            "{42}\n"
          ],
          "name": "stdout"
        }
      ]
    },
    {
      "metadata": {
        "id": "DplqWKhqh8eN",
        "colab_type": "code",
        "outputId": "9d9ba096-1914-4db1-9007-be216d14f42b",
        "colab": {
          "base_uri": "https://localhost:8080/",
          "height": 85
        }
      },
      "cell_type": "code",
      "source": [
        "#Q6: make function that takes n unsorted numbers, \n",
        "#   adds them to list and returns list in ascending order\n",
        "\n",
        "def foo(*args):\n",
        "  newList = []\n",
        "  newList.extend(args)\n",
        "  newList.sort()\n",
        "  return newList\n",
        "\n",
        "l = (5, 658, 319, 10, 21, 6)\n",
        "l2 = foo(5, 658, 319, 10, 21, 6)\n",
        "print(\"original passed-in numbers are \")\n",
        "print(l)\n",
        "print(\"Sorted list is\")\n",
        "print(l2)"
      ],
      "execution_count": 0,
      "outputs": [
        {
          "output_type": "stream",
          "text": [
            "original passed-in numbers are \n",
            "(5, 658, 319, 10, 21, 6)\n",
            "Sorted list is\n",
            "[5, 6, 10, 21, 319, 658]\n"
          ],
          "name": "stdout"
        }
      ]
    },
    {
      "metadata": {
        "id": "DD5SNtgih9yt",
        "colab_type": "code",
        "colab": {
          "base_uri": "https://localhost:8080/",
          "height": 51
        },
        "outputId": "97ea59f3-e2b9-4f77-e156-fe48c1caf159"
      },
      "cell_type": "code",
      "source": [
        "#Q7 return stats on file\n",
        "#to grader: you may change the test3.text hardcode, \n",
        "# or just uncomment the 'input name of your file' line and comment the hardcoded line.\n",
        "\n",
        "def getStats(filename):\n",
        "  numLines = 0\n",
        "  numWords = 0\n",
        "  numChars = 0\n",
        "  numSpecials = 0\n",
        "  with open(filename, 'r') as f:\n",
        "    for line in f:\n",
        "      numLines += 1\n",
        "      words = line.split()\n",
        "      numWords += len(words)\n",
        "      for word in words:\n",
        "        numChars += len(word)\n",
        "        for char in word:\n",
        "          if not char.isalnum():\n",
        "            numSpecials += 1\n",
        "  return numLines, numWords, numChars, numSpecials\n",
        "\n",
        "#file = input(\"Input the name of your file\")\n",
        "file = \"test3.txt\";\n",
        "a,b,c,d = getStats(file)\n",
        "print(\" Number of lines is %d, Number of words is %d\" % (a,b))\n",
        "print(\" Number of total characters is %d, Number of special characters is %d\" % (c,d))"
      ],
      "execution_count": 30,
      "outputs": [
        {
          "output_type": "stream",
          "text": [
            " Number of lines is 4, Number of words is 13\n",
            " Number of total characters is 51, Number of special characters is 9\n"
          ],
          "name": "stdout"
        }
      ]
    }
  ]
}
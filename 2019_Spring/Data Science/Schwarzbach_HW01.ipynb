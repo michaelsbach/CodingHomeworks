{
  "nbformat": 4,
  "nbformat_minor": 0,
  "metadata": {
    "colab": {
      "name": "Schwarzbach_HW01.ipynb",
      "version": "0.3.2",
      "provenance": [],
      "collapsed_sections": []
    },
    "kernelspec": {
      "name": "python3",
      "display_name": "Python 3"
    }
  },
  "cells": [
    {
      "metadata": {
        "id": "FXOoibVKgMAR",
        "colab_type": "code",
        "outputId": "4b02845f-3f39-4783-d339-6344ddc4ce17",
        "colab": {
          "base_uri": "https://localhost:8080/",
          "height": 102
        }
      },
      "cell_type": "code",
      "source": [
        "#Q1) Write a Python program that accepts the radius of a circle from the user \n",
        "#and computes the area. The output should be formatted to two decimal points. \n",
        "#Include error handling. Hint: the area of a circle = π.r2\n",
        "\n",
        "import math\n",
        "\n",
        "def check_num(s):\n",
        "  try:\n",
        "    float(s)\n",
        "    return True\n",
        "  except ValueError:\n",
        "    return False\n",
        "\n",
        "r = input(\"Insert the radius of a circle:  \")\n",
        "while not check_num(r):\n",
        "  r = input(\"Insert the radius of a circle (make sure you have valid number)\")\n",
        "area = math.pi*float(r)**2\n",
        "print(\"The area of your circle is %.2f\" % (area))\n",
        "\n"
      ],
      "execution_count": 0,
      "outputs": [
        {
          "output_type": "stream",
          "text": [
            "Insert the radius of a circle:  haha\n",
            "Insert the radius of a circle (make sure you have valid number)haha\n",
            "Insert the radius of a circle (make sure you have valid number)haha\n",
            "Insert the radius of a circle (make sure you have valid number)1234\n",
            "The area of your circle is 4783879.06\n"
          ],
          "name": "stdout"
        }
      ]
    },
    {
      "metadata": {
        "id": "xEaMZTkqgdB3",
        "colab_type": "code",
        "outputId": "7cdae999-af60-4541-bf96-0c436856b895",
        "colab": {
          "base_uri": "https://localhost:8080/",
          "height": 85
        }
      },
      "cell_type": "code",
      "source": [
        "#Q2) Write a Python program that accepts a sequence of comma-separated numbers\n",
        "#from the user and generates a list and a tuple with those numbers.\n",
        "\n",
        "sett = input(\"insert elements in the following format: 1,2,5,4,3,2,...\\n\")\n",
        "myEles = sett.split(\",\")\n",
        "myList = list(myEles)\n",
        "toople = tuple(myEles)\n",
        "\n",
        "print(\"Your list: \", end=\"\")\n",
        "print(myList)\n",
        "print(\"Your tuple: \", end=\"\")\n",
        "print(toople)\n",
        "\n",
        "\n",
        "\n"
      ],
      "execution_count": 0,
      "outputs": [
        {
          "output_type": "stream",
          "text": [
            "insert elements in the following format: 1,2,5,4,3,2,...\n",
            "1,2,3,4,5,6,5,4\n",
            "Your list: ['1', '2', '3', '4', '5', '6', '5', '4']\n",
            "Your tuple: ('1', '2', '3', '4', '5', '6', '5', '4')\n"
          ],
          "name": "stdout"
        }
      ]
    },
    {
      "metadata": {
        "id": "_gKEcOHUgdM6",
        "colab_type": "code",
        "outputId": "dbbfd686-7176-4649-89ce-3726a9b8ae22",
        "colab": {
          "base_uri": "https://localhost:8080/",
          "height": 51
        }
      },
      "cell_type": "code",
      "source": [
        "#Q3) Write a Python program that accepts a number and calculates its factorial. \n",
        "#No built-in function should be used\n",
        "\n",
        "def check_num(s):\n",
        "  try:\n",
        "    int(s)\n",
        "    return True\n",
        "  except ValueError:\n",
        "    return False\n",
        "\n",
        "num = input(\"Insert a number to calculuate its factorial: \")\n",
        "while not check_num(num):\n",
        "  num = input(\"Insert a number to calculuate its factorial: \")\n",
        "num = int(num)\n",
        "fact = num\n",
        "num2 = num\n",
        "while num > 1:\n",
        "  num = num-1\n",
        "  fact *= num\n",
        "  \n",
        "print(\"The factorial of %d is %d\" % (num2, fact))\n"
      ],
      "execution_count": 0,
      "outputs": [
        {
          "output_type": "stream",
          "text": [
            "Insert a number to calculuate its factorial: 4\n",
            "The factorial of 4 is 24\n"
          ],
          "name": "stdout"
        }
      ]
    },
    {
      "metadata": {
        "id": "IUouEAuQgdXJ",
        "colab_type": "code",
        "outputId": "27b20572-65f8-42a8-ec2a-fc4b2a9d4aea",
        "colab": {
          "base_uri": "https://localhost:8080/",
          "height": 102
        }
      },
      "cell_type": "code",
      "source": [
        "#Q4)Write a Python program to calculate number of days between two dates. \n",
        "#The dates should be entered in the format: mm/dd/yyyy. Do not use any built-in function.\n",
        "\n",
        "print(\"Format for dates: mm/dd/yyyy\")\n",
        "print(\"We also assume first date wil be before the second date.\")\n",
        "\n",
        "date1 = input(\"Please enter the first date: \")\n",
        "date2 = input(\"Please enter the second date: \")\n",
        "\n",
        "mo1,day1,yr1=date1.split('/')\n",
        "mo2,day2,yr2=date2.split('/')\n",
        "\n",
        "yrDiff = int(yr2)-int(yr1)\n",
        "moDiff = int(mo2)-int(mo1)\n",
        "dayDiff = int(day2)-int(day1)\n",
        "\n",
        "diffDays= yrDiff*365 + moDiff*30 + dayDiff\n",
        "\n",
        "print(\"The number of days between dates is: %d\" % (diffDays))"
      ],
      "execution_count": 0,
      "outputs": [
        {
          "output_type": "stream",
          "text": [
            "Format for dates: mm/dd/yyyy\n",
            "We also assume first date wil be before the second date.\n",
            "Please enter the first date: 01/30/2018\n",
            "Please enter the second date: 04/07/2018\n",
            "The number of days between dates is: 67\n"
          ],
          "name": "stdout"
        }
      ]
    },
    {
      "metadata": {
        "id": "lyas-7LBgdgh",
        "colab_type": "code",
        "outputId": "6e420a6c-7134-49b5-fe48-acd123335398",
        "colab": {
          "base_uri": "https://localhost:8080/",
          "height": 51
        }
      },
      "cell_type": "code",
      "source": [
        "#Q5) Write a Python program that finds if a given number is a multiple of 4\n",
        "\n",
        "num = input(\"Please enter a number:  \")\n",
        "if (int(num) % 4 == 0):\n",
        "  print(\"Your number is indeed a multiple of 4.\")\n",
        "else:\n",
        "  print(\"Your number is not a multiple of 4.\")"
      ],
      "execution_count": 1,
      "outputs": [
        {
          "output_type": "stream",
          "text": [
            "Please enter a number:  12\n",
            "Your number is indeed a multiple of 4.\n"
          ],
          "name": "stdout"
        }
      ]
    },
    {
      "metadata": {
        "id": "ZDxPNm7Sgdpo",
        "colab_type": "code",
        "outputId": "6682ff89-084e-489a-84a9-2a45cfc4e6e8",
        "colab": {
          "base_uri": "https://localhost:8080/",
          "height": 68
        }
      },
      "cell_type": "code",
      "source": [
        "#Q6) Write a Python program to count how many times a given number \n",
        "#occurred in the list [4, 6, 7, 2, 11, 6, 4, 2, 3, 9, 8, 5, 6, 3, 4, 7, 3]. \n",
        "#If the number is not in the list your program prints 0. Do not use any builtin function or method.\n",
        "\n",
        "myL = [4, 6, 7, 2, 11, 6, 4, 2, 3, 9, 8, 5, 6, 3, 4, 7, 3]\n",
        "print(\"The given list is \", end=\"\")\n",
        "print(myL)\n",
        "\n",
        "number = int(input(\"Input a number to see how many times it appears in the list: \"))\n",
        "count=0\n",
        "for element in myL:\n",
        "  if int(element) == number:\n",
        "    count += 1\n",
        "print(\"%d appeared in the list %d times.\" % (int(number), count))"
      ],
      "execution_count": 0,
      "outputs": [
        {
          "output_type": "stream",
          "text": [
            "The given list is [4, 6, 7, 2, 11, 6, 4, 2, 3, 9, 8, 5, 6, 3, 4, 7, 3]\n",
            "Input a number to see how many times it appears in the list: 6\n",
            "6 appeared in the list 3 times.\n"
          ],
          "name": "stdout"
        }
      ]
    },
    {
      "metadata": {
        "id": "O4jlzjwegdzG",
        "colab_type": "code",
        "outputId": "17ec8da2-01bf-41bb-ec29-939d5f6f2790",
        "colab": {
          "base_uri": "https://localhost:8080/",
          "height": 68
        }
      },
      "cell_type": "code",
      "source": [
        "#Q7) Write a Python program to sum all elements in a given tuple. \n",
        "#Your program should ignore all nonnumerical values. No built-in function is allowed.\n",
        "\n",
        "def check_num(s):\n",
        "  try:\n",
        "    float(s)\n",
        "    return True\n",
        "  except ValueError:\n",
        "    return False\n",
        "  \n",
        "sett = input(\"insert elements into the tuple in the following format: 1,2.5,a,b,3,2,...\\n\")\n",
        "toople = tuple(sett.split(\",\"))\n",
        "sum=0.0\n",
        "for element in toople:\n",
        "  if check_num(element):\n",
        "    sum += float(element)\n",
        "\n",
        "print(\"The sum of the numerical values in the tuple is %.2f\" % (sum))\n"
      ],
      "execution_count": 10,
      "outputs": [
        {
          "output_type": "stream",
          "text": [
            "insert elements into the tuple in the following format: 1,2,a,b,3,2,...\n",
            "1,2,3.5,4.2,a,b,c,d\n",
            "The sum of the numerical values in the tuple is 10.70\n"
          ],
          "name": "stdout"
        }
      ]
    },
    {
      "metadata": {
        "id": "PU1IuZbRgd8e",
        "colab_type": "code",
        "outputId": "a88ea3f7-8398-49a2-b0c4-5ff84ce30a43",
        "colab": {
          "base_uri": "https://localhost:8080/",
          "height": 102
        }
      },
      "cell_type": "code",
      "source": [
        "#Q8) Write a Python program to calculate the cardinality of the superset of a given set\n",
        "\n",
        "sett = input(\"insert elements of your set in the following format: 1,2,5,4,3,2,...\\n\")\n",
        "myList = sett.split(\",\")\n",
        "mySet = set(myList)\n",
        "print(\"Your set is the following:\")\n",
        "print(mySet)\n",
        "num = len(mySet)\n",
        "print(\"cardinality of superset is %d\" % (2**num)) "
      ],
      "execution_count": 0,
      "outputs": [
        {
          "output_type": "stream",
          "text": [
            "insert elements of your set in the following format: 1,2,5,4,3,2,...\n",
            "1,2,3,9,2,1\n",
            "Your set is the following:\n",
            "{'2', '9', '3', '1'}\n",
            "cardinality of superset is 16\n"
          ],
          "name": "stdout"
        }
      ]
    },
    {
      "metadata": {
        "id": "uNDdA416geGB",
        "colab_type": "code",
        "outputId": "600dbc91-1cae-4da9-d3ca-ea2b1cc9f6f9",
        "colab": {
          "base_uri": "https://localhost:8080/",
          "height": 68
        }
      },
      "cell_type": "code",
      "source": [
        "#Q9) Write a Python program to compute the greatest common divisor (GCD) of two positive integers.\n",
        "\n",
        "def GCD(a,b):\n",
        "    if(b==0):\n",
        "        return a\n",
        "    else:\n",
        "        return GCD(b,a%b)\n",
        "\n",
        "num1 = int(input(\"Insert the first positive integer: \"))\n",
        "num2 = int(input(\"Insert the second positive integer: \"))\n",
        "gcd = GCD(num1,num2)\n",
        "\n",
        "print(\"The GCD of these two numbers is %d\" % (gcd))\n"
      ],
      "execution_count": 0,
      "outputs": [
        {
          "output_type": "stream",
          "text": [
            "Insert the first positive integer: 8\n",
            "Insert the second positive integer: 12\n",
            "The GCD of these two numbers is 4\n"
          ],
          "name": "stdout"
        }
      ]
    },
    {
      "metadata": {
        "id": "BueMPHMGgePK",
        "colab_type": "code",
        "outputId": "b3ad5685-4d5e-4541-8dcf-ea0a7eac5739",
        "colab": {
          "base_uri": "https://localhost:8080/",
          "height": 68
        }
      },
      "cell_type": "code",
      "source": [
        "#Q10) Write a Python program to compute the distance between two given points \n",
        "#(x1, y1, z1) and (x2, y2, z2).\n",
        "\n",
        "p1 = input(\"insert the first coordinate, format \\'x1,y1,z1\\': \")\n",
        "l1=  list(p1.split(','))\n",
        "p2 = input(\"insert the second coordinate, format \\'x2,y2,z2\\': \")\n",
        "l2 = list(p2.split(','))\n",
        "\n",
        "for i in range(len(l1)):\n",
        "  l1[i] = float(l1[i])\n",
        "  l2[i] = float(l2[i])\n",
        "\n",
        "x = (l2[0]-l1[0])**2\n",
        "y = (l2[1]-l1[1])**2\n",
        "z = (l2[2]-l1[2])**2\n",
        "\n",
        "res = (x+y+z)**(1/2)\n",
        "\n",
        "print(\"The distance between the two points is %.2f\" % (res))\n"
      ],
      "execution_count": 0,
      "outputs": [
        {
          "output_type": "stream",
          "text": [
            "insert the first coordinate, format 'x1,y1,z1': 1,9,9\n",
            "insert the second coordinate, format 'x2,y2,z2': 69,0,0\n",
            "The distance between the two points is 69.18\n"
          ],
          "name": "stdout"
        }
      ]
    },
    {
      "metadata": {
        "id": "3So-w-1igeYg",
        "colab_type": "code",
        "outputId": "260d0802-5f40-40fb-e5bb-75e6a847ff49",
        "colab": {
          "base_uri": "https://localhost:8080/",
          "height": 51
        }
      },
      "cell_type": "code",
      "source": [
        "#Q11) Write a Python program that extracts all digit characters from a string into one string\n",
        "\n",
        "def check_num(s):\n",
        "  try:\n",
        "    int(s)\n",
        "    return True\n",
        "  except ValueError:\n",
        "    return False\n",
        "\n",
        "str = input(\"Insert any string with some digits: \")\n",
        "dig_str = []\n",
        "for char in str:\n",
        "  if check_num(char):\n",
        "    dig_str.append(char)\n",
        "    \n",
        "s = ''.join(dig_str)\n",
        "print(\"The digits found in the string are: \", end=\"\")\n",
        "print(s)\n",
        "  \n",
        "\n"
      ],
      "execution_count": 0,
      "outputs": [
        {
          "output_type": "stream",
          "text": [
            "Insert any string with some digits: sdahfbnnqhj4918984129814\n",
            "The digits found in the string are: 4918984129814\n"
          ],
          "name": "stdout"
        }
      ]
    },
    {
      "metadata": {
        "id": "ebV3Q7W0gehx",
        "colab_type": "code",
        "outputId": "6573384b-9e1e-4c6d-c29a-7fe8d7f49fd5",
        "colab": {
          "base_uri": "https://localhost:8080/",
          "height": 102
        }
      },
      "cell_type": "code",
      "source": [
        "#Q12) Write a python program to sum the first n positive \n",
        "#integers in a given list\n",
        "\n",
        "sett = input(\"insert elements of your list in the following format: 1,2,5,4,3,2,...\\n\")\n",
        "myList = sett.split(\",\")\n",
        "myList = list(myList)\n",
        "\n",
        "n = input(\"Insert the amount of integers to add:  \")\n",
        "n = int(n)\n",
        "sum = 0\n",
        "print(myList)\n",
        "for element in myList:\n",
        "  sum += int(element)\n",
        "  n = n-1\n",
        "  if n is 0:\n",
        "    break\n",
        "print(\"The sum is %d\" % (sum))\n"
      ],
      "execution_count": 0,
      "outputs": [
        {
          "output_type": "stream",
          "text": [
            "insert elements of your list in the following format: 1,2,5,4,3,2,...\n",
            "1,1,1,1,2,3,4,5,6,7,8,9\n",
            "Insert the amount of integers to add   10\n",
            "['1', '1', '1', '1', '2', '3', '4', '5', '6', '7', '8', '9']\n",
            "The sum is 31\n"
          ],
          "name": "stdout"
        }
      ]
    },
    {
      "metadata": {
        "id": "XKjIa38ngerf",
        "colab_type": "code",
        "outputId": "8aab8844-d302-41d1-b9f2-9c6558f3cb42",
        "colab": {
          "base_uri": "https://localhost:8080/",
          "height": 68
        }
      },
      "cell_type": "code",
      "source": [
        "#Q13) Write a Python program that calculates the BMI (Body Mass Index) = weight (lb) / [height (in)]2 x 703 for a person and prints a message based on the following table:\n",
        "\n",
        "height = input(\"Insert your height in inches (5ft5in is 65 inches):  \")\n",
        "weight = input(\"Insert your weight in pounds:  \")\n",
        "\n",
        "num = (int(weight)/int(height)**2) * 703\n",
        "\n",
        "if(num < 18.5):\n",
        "  print(\"You are Underweight\")\n",
        "elif(num > 18.5 and num < 24.9):\n",
        "  print(\"You are a Healthy Weight\") \n",
        "elif(num < 30):\n",
        "  print(\"You are Overweight\")\n",
        "else:\n",
        "  print(\"You are Obese\")"
      ],
      "execution_count": 0,
      "outputs": [
        {
          "output_type": "stream",
          "text": [
            "Insert your height in inches (5ft5in is 65 inches):  20\n",
            "Insert your weight in pounds:  100\n",
            "You are Obese\n"
          ],
          "name": "stdout"
        }
      ]
    },
    {
      "metadata": {
        "id": "gjaA0pHwge0R",
        "colab_type": "code",
        "outputId": "1f609404-9306-4dc6-da35-ffb9278d7dc7",
        "colab": {
          "base_uri": "https://localhost:8080/",
          "height": 51
        }
      },
      "cell_type": "code",
      "source": [
        "#Q14) Write a Python program to calculate the sum of the digits in an integer\n",
        "\n",
        "\n",
        "number = input(\"Insert any integer:  \")\n",
        "number = int(number)\n",
        "sum = 0\n",
        "while (number >= 1):\n",
        "  digit = int(number%10)\n",
        "  sum += digit\n",
        "  number /= 10\n",
        "  \n",
        "print(\"The sum of the digits is %d\" % (sum))"
      ],
      "execution_count": 0,
      "outputs": [
        {
          "output_type": "stream",
          "text": [
            "Insert any integer:  4610\n",
            "The sum of the digits is 11\n"
          ],
          "name": "stdout"
        }
      ]
    },
    {
      "metadata": {
        "id": "YZIy-LuGge90",
        "colab_type": "code",
        "outputId": "74c46b92-9868-4438-cd7f-0ce99f80b581",
        "colab": {
          "base_uri": "https://localhost:8080/",
          "height": 68
        }
      },
      "cell_type": "code",
      "source": [
        "#Q15) Write a Python program to sort a list of given strings alphabetically. \n",
        "#Don’t use any built-in function or method\n",
        "\n",
        "sett = input(\"insert elements of your list in the following format: str1,str2,.., strn\\n\")\n",
        "myList = sett.split(\",\")\n",
        "myList = list(myList)\n",
        "for i in range(len(myList)-1,0,-1):\n",
        "  for j in range(i):\n",
        "    if myList[j] > myList[j+1]:\n",
        "      temp = myList[j]\n",
        "      myList[j] = myList[j+1]\n",
        "      myList[j+1] = temp\n",
        "      \n",
        "print(\"Your sorted list: \", end=\"\")      \n",
        "print(myList)"
      ],
      "execution_count": 0,
      "outputs": [
        {
          "output_type": "stream",
          "text": [
            "insert elements of your list in the following format: str1,str2,.., strn\n",
            "a,b,c,d,e,f,a,b,c\n",
            "Your sorted list: ['a', 'a', 'b', 'b', 'c', 'c', 'd', 'e', 'f']\n"
          ],
          "name": "stdout"
        }
      ]
    },
    {
      "metadata": {
        "id": "RLy_SedKgYzx",
        "colab_type": "code",
        "outputId": "15646f84-0f8a-4101-9752-fbf1aecbeff4",
        "colab": {
          "base_uri": "https://localhost:8080/",
          "height": 51
        }
      },
      "cell_type": "code",
      "source": [
        "#Q16)tell if number is int or float (no built-in functions)\n",
        "\n",
        "num = input(\"Insert any int or float. \")\n",
        "if '.0' not in num:\n",
        "   print(\"Your number is a float\")\n",
        "else:\n",
        "   print(\"Your number is an int\")"
      ],
      "execution_count": 13,
      "outputs": [
        {
          "output_type": "stream",
          "text": [
            "Insert any int or float. 5.5\n",
            "Your number is a float\n"
          ],
          "name": "stdout"
        }
      ]
    },
    {
      "metadata": {
        "id": "grtL8BVugaco",
        "colab_type": "code",
        "outputId": "d617e563-5a41-40df-9f84-08a682bd8697",
        "colab": {
          "base_uri": "https://localhost:8080/",
          "height": 221
        }
      },
      "cell_type": "code",
      "source": [
        "#Q17) Write a Python program that accepts a list of equal number of strings and\n",
        "#numerical values. Create a dictionary from the list where\n",
        "#one random number is a key for one random string. \n",
        "\n",
        "from random import shuffle\n",
        "\n",
        "num = input(\"How many entries in your dictionary?  \")\n",
        "num = int(num)\n",
        "keys = []\n",
        "values = []\n",
        "for x in range(num):\n",
        "  numer = input(\"Enter integer %d:  \" % (x+1))\n",
        "  keys.append(numer)\n",
        "  strer = input(\"Enter string %d:  \" % (x+1))\n",
        "  values.append(strer)\n",
        "  \n",
        "shuffle(keys)\n",
        "shuffle(values)\n",
        "dictionary = dict(zip(keys,values))\n",
        "print(dictionary)\n"
      ],
      "execution_count": 0,
      "outputs": [
        {
          "output_type": "stream",
          "text": [
            "How many entries in your dictionary?  5\n",
            "Enter integer 1:  21\n",
            "Enter string 1:  hoho\n",
            "Enter integer 2:  22\n",
            "Enter string 2:  haha\n",
            "Enter integer 3:  23\n",
            "Enter string 3:  huhu\n",
            "Enter integer 4:  24\n",
            "Enter string 4:  hehe\n",
            "Enter integer 5:  25\n",
            "Enter string 5:  haihai\n",
            "{'21': 'hehe', '22': 'haha', '23': 'haihai', '25': 'huhu', '24': 'hoho'}\n"
          ],
          "name": "stdout"
        }
      ]
    },
    {
      "metadata": {
        "id": "XaV_9E_egZ3c",
        "colab_type": "code",
        "outputId": "3d1302fc-97ca-4108-dc5a-58ddb8ea14e2",
        "colab": {
          "base_uri": "https://localhost:8080/",
          "height": 85
        }
      },
      "cell_type": "code",
      "source": [
        "#Q18) Write a Python program that finds the minimum numerical value in a tuple. \n",
        "#The tuple may contain non-numerical elements as well. Do not use any built-in function\n",
        "\n",
        "def check_num(s):\n",
        "  try:\n",
        "    int(s)\n",
        "    return True\n",
        "  except ValueError:\n",
        "    return False\n",
        "\n",
        "\n",
        "sett = input(\"insert elements of your tuple in the following format: 1,2,..,n\\n\")\n",
        "sett = sett.split(\",\")\n",
        "toople = tuple(sett)\n",
        "print(toople)\n",
        "min=999999\n",
        "for element in toople:\n",
        "  if check_num(element):\n",
        "    int(element) < min\n",
        "    min = int(element)\n",
        "    \n",
        "print(\"The minimum value in your tuple is %d\" % (min))\n"
      ],
      "execution_count": 0,
      "outputs": [
        {
          "output_type": "stream",
          "text": [
            "insert elements of your tuple in the following format: 1,2,..,n\n",
            "212,210,200,aabc,def,ghi,21\n",
            "('212', '210', '200', 'aabc', 'def', 'ghi', '21')\n",
            "The minimum value in your tuple is 21\n"
          ],
          "name": "stdout"
        }
      ]
    },
    {
      "metadata": {
        "id": "g7fYkSXpgaCa",
        "colab_type": "code",
        "outputId": "d88ca065-c7da-45b5-868f-e8928728b50c",
        "colab": {
          "base_uri": "https://localhost:8080/",
          "height": 51
        }
      },
      "cell_type": "code",
      "source": [
        "#Q19) Write a Python program to calculate how many bits is required to represent \n",
        "#a given positive integer\n",
        "\n",
        "\n",
        "number = input(\"Insert a number:  \")\n",
        "number = int(number)\n",
        "dim=0\n",
        "while (number >= .5):\n",
        "  number = number//2\n",
        "  dim += 1\n",
        "print(\"%d bits are required to represent your number in binary\" % (dim))"
      ],
      "execution_count": 0,
      "outputs": [
        {
          "output_type": "stream",
          "text": [
            "Insert a number:  200\n",
            "8 bits are required to represent your number in binary\n"
          ],
          "name": "stdout"
        }
      ]
    },
    {
      "metadata": {
        "id": "9IFzRVujgaL6",
        "colab_type": "code",
        "outputId": "5f9d70ce-404d-4049-e193-97169af67ff8",
        "colab": {
          "base_uri": "https://localhost:8080/",
          "height": 51
        }
      },
      "cell_type": "code",
      "source": [
        "#Q20) Write a Python program to check whether a given IP address is valid or not. \n",
        "#The format of a valid IP address is ddd.d[dd].d[dd].d[ddd] where d is a digit and [] means optional. \n",
        "\n",
        "\n",
        "\n",
        "#valid IP addresses: 321.22.434.56, 123.5.6.7890 \n",
        "#invalid IP addresses: 12.22.34.556, 9.222.34.1, 123.4567.23.1\n",
        "\n",
        "import re\n",
        "\n",
        "ip = input(\"Insert an IP address:  \")\n",
        "match = re.search(r\"\\d{3}(\\.\\d{1,3}){2}\\.\\d{1,4}\", ip)\n",
        "if match:\n",
        "  print(\"Your IP address is valid.\")\n",
        "else:\n",
        "  print(\"Your IP address is invalid.\")\n"
      ],
      "execution_count": 14,
      "outputs": [
        {
          "output_type": "stream",
          "text": [
            "Insert an IP address:  123.5.6.7890\n",
            "Your IP address is valid.\n"
          ],
          "name": "stdout"
        }
      ]
    }
  ]
}
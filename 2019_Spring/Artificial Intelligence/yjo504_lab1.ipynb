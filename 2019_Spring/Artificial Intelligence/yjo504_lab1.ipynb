{
  "nbformat": 4,
  "nbformat_minor": 0,
  "metadata": {
    "colab": {
      "name": "yjo504_lab1.ipynb",
      "version": "0.3.2",
      "provenance": [],
      "collapsed_sections": []
    },
    "kernelspec": {
      "name": "python3",
      "display_name": "Python 3"
    }
  },
  "cells": [
    {
      "cell_type": "markdown",
      "metadata": {
        "id": "sObYi0QJVuSv",
        "colab_type": "text"
      },
      "source": [
        "Michael Schwarzbach\n",
        "\n",
        "yjo504\n"
      ]
    },
    {
      "cell_type": "markdown",
      "metadata": {
        "id": "XIAX9wEwVDYE",
        "colab_type": "text"
      },
      "source": [
        "# Question 2 - Chatbot"
      ]
    },
    {
      "cell_type": "code",
      "metadata": {
        "id": "UZ2mE9baWCNE",
        "colab_type": "code",
        "outputId": "4f3e7e6b-dafb-47b6-8cc1-0767ce75bcd3",
        "colab": {
          "base_uri": "https://localhost:8080/",
          "height": 391
        }
      },
      "source": [
        "import random\n",
        "\n",
        "star = '*'\n",
        "print(star*47 + \"\\n Welcome to JIMMY, a \\\"fully\\\" interactive chatbot!\\n\" + star*47 + \"\\n<<<type \\\"bye\\\" to exit>>>\\n\")\n",
        "greetings = [\"hello\", \"hey\", \"hi\", \"hola\", \"yo\", \"howdy\"]\n",
        "\n",
        "#infinite loop that stops when user inputs \"bye\"\n",
        "while(True):\n",
        "  print(\"You:\", end=' ')\n",
        "  reply = input()\n",
        "  if (reply == \"bye\"):\n",
        "      break\n",
        "  print(\"JIMMY:\", end=' ')\n",
        "  num = random.randint(1,3)\n",
        "\n",
        "  if (reply.lower() == \"what's up?\" or reply.lower() == \"whats up\" ):\n",
        "    print(\"I'm just hanging out! I'm glad you stopped by to talk to me.\")\n",
        "  elif (reply.lower() == \"how are you\" or reply.lower() == \"how are you?\" ):\n",
        "    print(\"I'm fine. Just living my days on here, waiting for someone to talk to me.\")\n",
        "  elif (\"s sad\" in reply.lower() ):\n",
        "    print(\"Tell me about it..\")\n",
        "  #if user types something that any element in [greetings] is a substring of, \n",
        "  #   it replies with a fellow greeting  \n",
        "  elif any( x in reply.lower() for x in greetings):\n",
        "    if (num == 1):\n",
        "      print(\"Hey there!\")\n",
        "    elif (num == 2):\n",
        "      print(\"Hello to you too!\")\n",
        "    else:\n",
        "      print(\"Hello, human!\")  \n",
        "  #if user types anything besides greeting/conversational query    \n",
        "  else:\n",
        "    if (num == 1):\n",
        "      print(\"What?\")\n",
        "    elif (num == 2):\n",
        "      print(\"Why?\")\n",
        "    else:\n",
        "      print(\"Doesn't look like anything to me.\")\n",
        "print(\"JIMMY: Farewell, friend!\")\n",
        "  \n",
        "  \n",
        "    "
      ],
      "execution_count": 0,
      "outputs": [
        {
          "output_type": "stream",
          "text": [
            "***********************************************\n",
            " Welcome to JIMMY, a fully interactive chatbot!\n",
            "***********************************************\n",
            "<<<type \"bye\" to exit>>>\n",
            "You: hello there!\n",
            "JIMMY: Hey there!\n",
            "You: hola senor\n",
            "JIMMY: Hello, human!\n",
            "You: yo yo yo!\n",
            "JIMMY: Hey there!\n",
            "You: what's up?\n",
            "JIMMY: I'm just hanging out! I'm glad you stopped by to talk to me.\n",
            "You: how are you?\n",
            "JIMMY: I'm fine. Just living my days on here, waiting for someone to talk to me.\n",
            "You: that's sad\n",
            "JIMMY: Tell me about it..\n",
            "You: What's the meaning of life?\n",
            "JIMMY: Why?\n",
            "You: tell me!\n",
            "JIMMY: Doesn't look like anything to me.\n",
            "You: bye\n",
            "JIMMY: Farewell, friend!\n"
          ],
          "name": "stdout"
        }
      ]
    },
    {
      "cell_type": "markdown",
      "metadata": {
        "id": "wSU7ioi1SKst",
        "colab_type": "text"
      },
      "source": [
        "# Question 3 - Environment"
      ]
    },
    {
      "cell_type": "markdown",
      "metadata": {
        "id": "gz9gFgxrSTFk",
        "colab_type": "text"
      },
      "source": [
        "**Outline for Environment Metrics** \n",
        "1.   Is it fully-, partially-, or non- observable?\n",
        "2.   Deterministic (your agent’s actions uniquely determine the outcome )\n",
        "       or stochastic? ( your agent’s actions don’t uniquely determine the outcome )\n",
        "3.   Episodic (agent only considers the task at hand and doesn’t consider the effect it may have on future tasks) or sequential?\n",
        "4.   Static (environment unchanged while agent makes decision / performs action)or dynamic? (environment is\n",
        "       continuously changing)\n",
        "5.   Discrete (there are a finite number of actions that can be performed within environment)\n",
        "      or continuous? (unkown amount of actions of environment due to dynamicity)\n",
        "6.   Single-agent (only the agent) or multi-agent (many agents)?\n",
        "\n",
        "**Scenarios**\n",
        "\n",
        "*Crossword Puzzle*\n",
        "\n",
        "1.   Partially observable- you do not know the solutions at first glance\n",
        "2.   Deterministic- your ability to solve is based on your prior vocabulary knowledge\n",
        "3.   Sequential- solving one word most of the time gives you a hint at the other words\n",
        "4.   Static- environment unchanged while solving puzzle\n",
        "5.   Discrete- the crossword blocks limit your options, there is 1 correct way to solve the puzzle\n",
        "6.   Single-agent- just you solving the puzzle\n",
        "\n",
        "\n",
        "\n",
        "*Attending a lecture*\n",
        "\n",
        "1.   Partially observable- a student can see everything the lecturer presents, but sometimes a lecturer has something up on their computer that they do not show to the class\n",
        "2.   Deterministic- if you pay show up and pay attention, you learn. No luck involved.\n",
        "3.   Sequential- the lecture happens in sequence\n",
        "4.   dynamic- the slides change and the lecturer keeps talking, whether or not you take notes\n",
        "5.   Continuous- you dont know what is going to happen during lecture\n",
        "6.   Multi-agent- other students and the lecturer are present, not just you\n",
        "\n",
        "\n",
        "\n",
        "*Image Analysis*\n",
        "\n",
        "1.   Fully-observable- the agent can see the whole image and probably metadata too\n",
        "2.   Deterministic- The agent's actions uniquely determine the results of analysis\n",
        "3.   Episodic- the agent analyzes a picture at a time, repeating the task episodically\n",
        "4.   Static- the image does not change while the agent analyzes it\n",
        "5.   Continuous- the agent does not know what the image will look like, or contain\n",
        "6.   Single-agent- the agent alone analyzes the picture\n",
        "\n",
        "\n",
        "\n",
        "*Self-Driving Shuttle*\n",
        "\n",
        "1.   Partially-observable- the shuttle can see around it, but not omniscient or have long-range vision\n",
        "2.   Stochastic- the shuttle makes decisions, but cannot control the world around it. \n",
        "3.   Sequential- the shuttle must evaluate its percepts altogether and has to seriously consider future tasks\n",
        "4.   Dynamic- the roads and drivers are changing around the shuttle\n",
        "5.   Continuous- since the enviroment is dynamic, there is not a finite number of actions that can occur\n",
        "6.   Multi-agent- the shuttle (most of the time) is going to be dealing with the prescence of other vehicles\n",
        "\n",
        "\n",
        "\n",
        "**Medical Diagnostic System P.E.A.S.**\n",
        "\n",
        "1.   Peformance Measure- Peformance will be measured through health of patient, complying with ethical, legal, and domain standards. Success is a correct diagnosis and improvement of patient, failiure looks like incorrect diagnosis or failiure to follow the proper standards. It's worth it to mention that sometimes a proper diagnosis is impossible, so that is not failiure on part of the system.\n",
        "\n",
        "2.   Environment-  hospital, interacting with patients and staff (doctors, nurses, etc.)\n",
        "3.   Actuators- physical display, which for patients will prompt for questions, show relevant graphics and information about diagnosis and treatments; for hospital staff, will prompt for information it could not gather\n",
        "\n",
        "4.   Sensors- keyboard or language processing: to process both the hospital staff's input of medical records and patient decisions, and the patient's input of symptoms, past medical history, etc.\n"
      ]
    }
  ]
}
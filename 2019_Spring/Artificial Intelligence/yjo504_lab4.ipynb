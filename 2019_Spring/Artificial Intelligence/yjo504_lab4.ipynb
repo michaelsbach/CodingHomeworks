{
  "nbformat": 4,
  "nbformat_minor": 0,
  "metadata": {
    "colab": {
      "name": "yjo504-lab4.ipynb",
      "version": "0.3.2",
      "provenance": [],
      "collapsed_sections": [],
      "toc_visible": true
    },
    "kernelspec": {
      "name": "python3",
      "display_name": "Python 3"
    },
    "accelerator": "GPU"
  },
  "cells": [
    {
      "cell_type": "markdown",
      "metadata": {
        "id": "FQ1gFGix0wI1",
        "colab_type": "text"
      },
      "source": [
        "#Pre Q1 Scripts"
      ]
    },
    {
      "cell_type": "code",
      "metadata": {
        "id": "LkzpMdZx0pvi",
        "colab_type": "code",
        "colab": {}
      },
      "source": [
        "#code cell for extracting contents of zipf (data-lab3.zip) to this directory\n",
        "\n",
        "\n",
        "import zipfile\n",
        "\n",
        "zipf = 'data-lab4.zip'\n",
        "gdrive = '/gdrive/My Drive/colab/'\n",
        "file = gdrive+zipf\n",
        "zi = zipfile.ZipFile(file, 'r')\n",
        "zi.extractall()"
      ],
      "execution_count": 0,
      "outputs": []
    },
    {
      "cell_type": "code",
      "metadata": {
        "id": "mOAUYBsF0tV9",
        "colab_type": "code",
        "outputId": "10014da3-3dee-483a-c272-0eef74945808",
        "colab": {
          "base_uri": "https://localhost:8080/",
          "height": 125
        }
      },
      "source": [
        "#code cell for mounting colab to google drive\n",
        "#run this every time need to re-instantiate connection to colab servers\n",
        "\n",
        "from google.colab import drive\n",
        "drive.mount(\"/gdrive\", force_remount=True)"
      ],
      "execution_count": 0,
      "outputs": [
        {
          "output_type": "stream",
          "text": [
            "Go to this URL in a browser: https://accounts.google.com/o/oauth2/auth?client_id=947318989803-6bn6qk8qdgf4n4g3pfee6491hc0brc4i.apps.googleusercontent.com&redirect_uri=urn%3Aietf%3Awg%3Aoauth%3A2.0%3Aoob&scope=email%20https%3A%2F%2Fwww.googleapis.com%2Fauth%2Fdocs.test%20https%3A%2F%2Fwww.googleapis.com%2Fauth%2Fdrive%20https%3A%2F%2Fwww.googleapis.com%2Fauth%2Fdrive.photos.readonly%20https%3A%2F%2Fwww.googleapis.com%2Fauth%2Fpeopleapi.readonly&response_type=code\n",
            "\n",
            "Enter your authorization code:\n",
            "··········\n",
            "Mounted at /gdrive\n"
          ],
          "name": "stdout"
        }
      ]
    },
    {
      "cell_type": "markdown",
      "metadata": {
        "id": "T-F7R22a0zEd",
        "colab_type": "text"
      },
      "source": [
        "#Question 1: Data"
      ]
    },
    {
      "cell_type": "code",
      "metadata": {
        "id": "1Q2szvzA02VV",
        "colab_type": "code",
        "outputId": "672e8ed7-0025-4ade-8573-91965be2ae81",
        "colab": {
          "base_uri": "https://localhost:8080/",
          "height": 34
        }
      },
      "source": [
        "import keras\n",
        "import numpy as np\n",
        "import os\n",
        "import random\n",
        "import re\n",
        "from keras.utils import to_categorical\n",
        "\n",
        "base_path = 'data-lab4'\n",
        "#base_path = input('Submit path of directory including folder holding the 2 csv files')\n",
        "#\n",
        "x_train=[]   #data\n",
        "x_test=[]\n",
        "y_train=[]   #labels\n",
        "y_test=[]\n",
        "\n",
        "\n",
        "n=0\n",
        "\n",
        "with open(base_path+'/training.csv', encoding='ISO-8859-1') as train, open(base_path+'/testing.csv', encoding='ISO-8859-1') as test: \n",
        "  for line in train:\n",
        "#     if n > 100000:\n",
        "#       break\n",
        "#     n+=1\n",
        "    ln = line.split(',')\n",
        "    for i in [0,5]:\n",
        "      ln[i] = re.sub('\"', '', ln[i])\n",
        "    y_train.append(ln[0])\n",
        "    x_train.append(ln[5])\n",
        "  for line in test:\n",
        "    ln = line.split(',')\n",
        "    for i in [0,5]:\n",
        "      ln[i] = re.sub('\"', '', ln[i])\n",
        "    y_test.append(ln[0])\n",
        "    x_test.append(ln[5])\n",
        "    \n",
        "len_train = len(x_train)\n",
        "len_test = len(x_test)    \n",
        "  \n",
        "  \n",
        "print('Finished reading. %d Testing Samples, %d Training samples.' % (len_test, len_train))\n",
        "\n",
        "\n",
        "y_test = np.array(y_test)\n",
        "cats, testCounts = np.unique(y_test, return_counts=True)\n",
        "\n",
        "y_train = np.array(y_train)\n",
        "trainCats, trainCounts = np.unique(y_train, return_counts=True)\n",
        "train_zip = dict(zip(trainCats, trainCounts))\n",
        "for i in cats:\n",
        "  if i not in train_zip.keys():\n",
        "    train_zip[i]=0\n",
        "\n"
      ],
      "execution_count": 0,
      "outputs": [
        {
          "output_type": "stream",
          "text": [
            "Finished reading. 490 Testing Samples, 1586588 Training samples.\n"
          ],
          "name": "stdout"
        }
      ]
    },
    {
      "cell_type": "code",
      "metadata": {
        "id": "UtSar_a_ua7L",
        "colab_type": "code",
        "colab": {}
      },
      "source": [
        "from keras.preprocessing.text import Tokenizer\n",
        "from sklearn.feature_extraction.text import CountVectorizer\n",
        "\n",
        "vectorizer = CountVectorizer()\n",
        "vectorizer.fit(x_train)\n",
        "X_test = vectorizer.transform(x_test)\n",
        "X_train= vectorizer.transform(x_train)\n",
        "\n",
        "Y_test = to_categorical(y_test, 5)\n",
        "Y_train = to_categorical(y_train)\n",
        "\n",
        "\n"
      ],
      "execution_count": 0,
      "outputs": []
    },
    {
      "cell_type": "code",
      "metadata": {
        "id": "A_QZzDTNnhGT",
        "colab_type": "code",
        "outputId": "f03f2648-8195-4bae-b3f3-5e6bb60a9432",
        "colab": {
          "base_uri": "https://localhost:8080/",
          "height": 281
        }
      },
      "source": [
        "import matplotlib.pyplot as plt\n",
        "\n",
        "xcoord = ['Category \\'0\\'', 'Category \\'2\\'', 'Category \\'4\\'']\n",
        "\n",
        "gs = plt.GridSpec(1,2) #wspace=0.3\n",
        "fig = plt.figure(figsize=(10,4))\n",
        "\n",
        "train = plt.subplot(gs[0,0])\n",
        "train_heights = [train_zip['0'], train_zip['2'], train_zip['4']]\n",
        "train.bar(xcoord, train_heights, color='teal')\n",
        "train.set_title('Training Samples')\n",
        "train.text(-0.25,train_heights[0]/2,str(train_heights[0]))\n",
        "train.text(0.9,train_heights[0]/2,str(train_heights[1]))\n",
        "train.text(1.8,train_heights[2]/2,str(train_heights[2]))\n",
        "\n",
        "\n",
        "test = plt.subplot(gs[0,1])\n",
        "test_heights = [i for i in testCounts]\n",
        "test.bar(xcoord, test_heights, color='purple')\n",
        "test.set_title('Testing Samples')\n",
        "test.text(-0.1,test_heights[0]/2,str(test_heights[0]))\n",
        "test.text(0.9,test_heights[1]/2,str(test_heights[1]))\n",
        "test.text(1.9,test_heights[2]/2,str(test_heights[2]))\n",
        "\n",
        "\n",
        "plt.show()\n",
        "\n",
        "\n",
        "\n"
      ],
      "execution_count": 0,
      "outputs": [
        {
          "output_type": "display_data",
          "data": {
            "image/png": "[encoded data removed]",
            "text/plain": [
              "<Figure size 720x288 with 2 Axes>"
            ]
          },
          "metadata": {
            "tags": []
          }
        }
      ]
    },
    {
      "cell_type": "markdown",
      "metadata": {
        "id": "VeLhSCjq02_m",
        "colab_type": "text"
      },
      "source": [
        "#Question 2: Classification"
      ]
    },
    {
      "cell_type": "code",
      "metadata": {
        "id": "eX3-eUof01xL",
        "colab_type": "code",
        "outputId": "e9b06ac2-ba0e-4868-8cc2-5ed78dfeb780",
        "colab": {
          "base_uri": "https://localhost:8080/",
          "height": 336
        }
      },
      "source": [
        "from keras.layers import Dense\n",
        "from keras import Sequential\n",
        "\n",
        "# Create a neural network using Keras and add at least 2 hidden layers. You may choose the\n",
        "# number of units, types of layers, activation functions, etc. Recall that the input layer will define\n",
        "# the shape of the first hidden layer, and that the output layer size will dictate the output size of the\n",
        "# last hidden layer.\n",
        "\n",
        "#num_samples = X_train.shape[0]\n",
        "num_features = X_train.shape[1]\n",
        "\n",
        "# print(X_train.shape)\n",
        "# print(cats)\n",
        "\n",
        "model = Sequential()\n",
        "model.add(Dense(32, input_dim=num_features, activation='relu'))\n",
        "model.add(Dense(8, activation='relu'))\n",
        "model.add(Dense(5, activation='softmax'))\n",
        "\n",
        "SGD = keras.optimizers.SGD(lr=0.04)\n",
        "\n",
        "model.compile(loss='categorical_crossentropy', optimizer=SGD, metrics=['accuracy'] )\n",
        "\n",
        "model.summary()\n",
        "\n",
        "EPOCHS = 2\n",
        "H = model.fit(X_train, Y_train, epochs=EPOCHS, validation_data=(X_test, Y_test), batch_size=100)\n"
      ],
      "execution_count": 0,
      "outputs": [
        {
          "output_type": "stream",
          "text": [
            "_________________________________________________________________\n",
            "Layer (type)                 Output Shape              Param #   \n",
            "=================================================================\n",
            "dense_22 (Dense)             (None, 32)                20419968  \n",
            "_________________________________________________________________\n",
            "dense_23 (Dense)             (None, 8)                 264       \n",
            "_________________________________________________________________\n",
            "dense_24 (Dense)             (None, 5)                 45        \n",
            "=================================================================\n",
            "Total params: 20,420,277\n",
            "Trainable params: 20,420,277\n",
            "Non-trainable params: 0\n",
            "_________________________________________________________________\n",
            "Train on 1586588 samples, validate on 490 samples\n",
            "Epoch 1/2\n",
            "1586588/1586588 [==============================] - 4726s 3ms/step - loss: 0.5039 - acc: 0.7550 - val_loss: 3.0121 - val_acc: 0.5551\n",
            "Epoch 2/2\n",
            "1586588/1586588 [==============================] - 4745s 3ms/step - loss: 0.4626 - acc: 0.7815 - val_loss: 3.1487 - val_acc: 0.5633\n"
          ],
          "name": "stdout"
        }
      ]
    },
    {
      "cell_type": "markdown",
      "metadata": {
        "id": "Ic3KUjYn06UB",
        "colab_type": "text"
      },
      "source": [
        "#Question 3: Evaluation"
      ]
    },
    {
      "cell_type": "code",
      "metadata": {
        "id": "TcSimYy307z2",
        "colab_type": "code",
        "outputId": "bf4ea9e2-282b-4b38-d385-11fb2cba18e5",
        "colab": {
          "base_uri": "https://localhost:8080/",
          "height": 507
        }
      },
      "source": [
        "from sklearn.metrics import classification_report\n",
        "from sklearn.metrics import roc_curve\n",
        "\n",
        "# Compare the predictions from your test data to the known labels using the following\n",
        "# metrics:\n",
        "# Use the classification_report from scikit-learn to report precision, recall, and f1-score.\n",
        "# Visualize your results by displaying a ROC curve - a probability curve plotting the true\n",
        "# positive rate against the false positive rate. Put FPR on the x-axis and TPR on the y-axis.\n",
        "# Use roc_curve from scikit-learn to help with this step\n",
        "\n",
        "predictions = model.predict(X_test)\n",
        "categories = ['0', '1', '2','3','4']\n",
        "#compare returned predictions to the known labels using classification_report\n",
        "print(classification_report(Y_test.argmax(axis=1), predictions.argmax(axis=1), target_names=cats))\n",
        "\n",
        "y_true = Y_test.argmax(axis=1)\n",
        "y_true[y_true < 4] = 1\n",
        "y_true[y_true == 4] = 0\n",
        "y_score = predictions[:,0]\n",
        "\n",
        "#fpr: Increasing false positive rates such that element i is the false positive rate of predictions with score >= thresholds[i].\n",
        "#tpr: Increasing true positive rates such that element i is the true positive rate of predictions with score >= thresholds[i].\n",
        "#threshes: Decreasing thresholds on the decision function used to compute fpr and tpr. thresholds[0] represents no instances being predicted and is arbitrarily set to max(y_score) + 1.\n",
        "fpr, tpr, threshes = roc_curve(y_true, y_score)\n",
        "\n",
        "\n",
        "#viz results by displaying ROC curve - a probability curve plotting the true \n",
        "  #positive rate against the false positive rate.\n",
        "  #put FPR on x-axis and TPR on y-axis.\n",
        "  #use roc_curve from scikit-learn\n",
        "  \n",
        "  \n",
        "  \n",
        "plt.plot(fpr, tpr, label='ROC curve')\n",
        "plt.plot([0, 1], [0, 1], 'k--')  # random predictions curve\n",
        "plt.xlim([0.0, 1.0])\n",
        "plt.ylim([0.0, 1.0])\n",
        "plt.xlabel('False Positive Rate or (1 - Specifity)')\n",
        "plt.ylabel('True Positive Rate or (Sensitivity)')\n",
        "plt.title('Receiver Operating Characteristic')\n",
        "plt.legend(loc=\"lower right\")\n",
        "plt.show()\n",
        "\n"
      ],
      "execution_count": 0,
      "outputs": [
        {
          "output_type": "stream",
          "text": [
            "              precision    recall  f1-score   support\n",
            "\n",
            "           0       0.69      0.77      0.72       171\n",
            "           2       0.00      0.00      0.00       139\n",
            "           4       0.48      0.81      0.61       180\n",
            "\n",
            "   micro avg       0.56      0.56      0.56       490\n",
            "   macro avg       0.39      0.52      0.44       490\n",
            "weighted avg       0.42      0.56      0.47       490\n",
            "\n"
          ],
          "name": "stdout"
        },
        {
          "output_type": "stream",
          "text": [
            "/usr/local/lib/python3.6/dist-packages/sklearn/metrics/classification.py:1143: UndefinedMetricWarning: Precision and F-score are ill-defined and being set to 0.0 in labels with no predicted samples.\n",
            "  'precision', 'predicted', average, warn_for)\n"
          ],
          "name": "stderr"
        },
        {
          "output_type": "display_data",
          "data": {
            "image/png": "[encoded data removed]",
            "text/plain": [
              "<Figure size 432x288 with 1 Axes>"
            ]
          },
          "metadata": {
            "tags": []
          }
        }
      ]
    }
  ]
}